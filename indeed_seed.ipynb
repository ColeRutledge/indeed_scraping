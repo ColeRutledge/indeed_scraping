{
 "metadata": {
  "language_info": {
   "codemirror_mode": {
    "name": "ipython",
    "version": 3
   },
   "file_extension": ".py",
   "mimetype": "text/x-python",
   "name": "python",
   "nbconvert_exporter": "python",
   "pygments_lexer": "ipython3",
   "version": "3.8.3-final"
  },
  "orig_nbformat": 2,
  "kernelspec": {
   "name": "python38364bitscrapingakn5proypipenvedcf973c5e11440c89c5e2abb625043d",
   "display_name": "Python 3.8.3 64-bit ('scraping-AkN5pROy': pipenv)"
  }
 },
 "nbformat": 4,
 "nbformat_minor": 2,
 "cells": [
  {
   "cell_type": "code",
   "execution_count": 1,
   "metadata": {},
   "outputs": [],
   "source": [
    "import pandas as pd\n",
    "import numpy as np"
   ]
  },
  {
   "cell_type": "code",
   "execution_count": 2,
   "metadata": {},
   "outputs": [],
   "source": [
    "df = pd.read_csv('indeed_seed.csv')"
   ]
  },
  {
   "cell_type": "code",
   "execution_count": 3,
   "metadata": {},
   "outputs": [],
   "source": [
    "df = df.drop_duplicates(subset=['company', 'title'])"
   ]
  },
  {
   "cell_type": "code",
   "execution_count": 22,
   "metadata": {},
   "outputs": [],
   "source": [
    "# create ['js_count','python_count'] columns with counts of each showing up in job descriptions\n",
    "descriptions = df['description']\n",
    "df['js_count'] = descriptions.str.count(r'[jJ]ava[sS]cript')\n",
    "df['python_count'] = descriptions.str.count(r'[Pp]ython')\n",
    "df[['js_count', 'python_count']] = df[['js_count', 'python_count']].fillna(0).astype(int)"
   ]
  },
  {
   "cell_type": "code",
   "execution_count": 5,
   "metadata": {},
   "outputs": [],
   "source": [
    "def format_hourly(num):\n",
    "    '''Returns annual salaries converted from hourly rates'''\n",
    "    return num * 2000 if num > 0 and num < 1000 else num"
   ]
  },
  {
   "cell_type": "code",
   "execution_count": 21,
   "metadata": {},
   "outputs": [
    {
     "output_type": "execute_result",
     "data": {
      "text/plain": "0          NaN\n1          NaN\n2          NaN\n3      50000.0\n4          NaN\n5     140000.0\n6     128000.0\n7          NaN\n8          NaN\n9          NaN\n10    110000.0\n11         NaN\n12         NaN\n13         NaN\n14         NaN\n16         NaN\n17         NaN\n18         NaN\n19         NaN\n20    160000.0\n21         NaN\n23         NaN\n24         NaN\n25         NaN\n26     85000.0\n27         NaN\n28    110000.0\n29         NaN\n30         NaN\n31    148071.0\n33         NaN\n35         NaN\n36         NaN\n38    150000.0\n39         NaN\n40         NaN\n41         NaN\n42         NaN\n44     85000.0\n49         NaN\n50         NaN\n52         NaN\n54         NaN\n56         NaN\n57         NaN\n58         NaN\n59         NaN\n60         NaN\n61         NaN\n62         NaN\nName: formatted_sal, dtype: float64"
     },
     "metadata": {},
     "execution_count": 21
    }
   ],
   "source": [
    "# creates the 'formatted_sal' column by finding and formatting high range of scraped salary data\n",
    "sal_cap_groups = df['salary'].str.extract(r'\\d\\d\\d?,\\d\\d\\d\\s-\\s\\$(\\d\\d\\d?,\\d\\d\\d)|\\d\\d\\s-\\s\\$(\\d\\d)')\n",
    "combined = sal_cap_groups[0].combine_first(sal_cap_groups[1]).str.replace(',', '')\n",
    "df['formatted_sal'] = combined.fillna(0).astype(int).map(format_hourly).replace(0, np.nan)\n",
    "# df_dd['formatted_sal'] = combined.fillna(0).astype(int).map(lambda num: num * 2000 if num > 0 and num < 1000 else num).replace(0, np.nan)"
   ]
  },
  {
   "cell_type": "code",
   "execution_count": 15,
   "metadata": {},
   "outputs": [],
   "source": [
    "grouped = df.groupby(['search_loc', 'search_terms'])\n",
    "market_sals = grouped['formatted_sal'].mean().sort_values(ascending=False).astype(int)"
   ]
  },
  {
   "cell_type": "code",
   "execution_count": 16,
   "metadata": {},
   "outputs": [],
   "source": [
    "market_sals.to_csv('market_sals.csv', encoding='utf-8-sig')"
   ]
  },
  {
   "cell_type": "code",
   "execution_count": 17,
   "metadata": {},
   "outputs": [],
   "source": [
    "df.to_csv('indeed_seed_jup.csv',index=False,encoding='utf-8-sig')"
   ]
  }
 ]
}