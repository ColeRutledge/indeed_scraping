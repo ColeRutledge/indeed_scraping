{
 "metadata": {
  "language_info": {
   "codemirror_mode": {
    "name": "ipython",
    "version": 3
   },
   "file_extension": ".py",
   "mimetype": "text/x-python",
   "name": "python",
   "nbconvert_exporter": "python",
   "pygments_lexer": "ipython3",
   "version": "3.8.3-final"
  },
  "orig_nbformat": 2,
  "kernelspec": {
   "name": "python38364bitscrapingakn5proypipenvedcf973c5e11440c89c5e2abb625043d",
   "display_name": "Python 3.8.3 64-bit ('scraping-AkN5pROy': pipenv)"
  }
 },
 "nbformat": 4,
 "nbformat_minor": 2,
 "cells": [
  {
   "cell_type": "code",
   "execution_count": 1,
   "metadata": {},
   "outputs": [],
   "source": [
    "import pandas as pd\n",
    "import numpy as np\n",
    "import re"
   ]
  },
  {
   "cell_type": "code",
   "execution_count": 2,
   "metadata": {},
   "outputs": [],
   "source": [
    "df = pd.read_csv('indeed_seed.csv')"
   ]
  },
  {
   "cell_type": "code",
   "execution_count": 3,
   "metadata": {},
   "outputs": [],
   "source": [
    " df_dd = df.drop_duplicates(subset=['company', 'title'])"
   ]
  },
  {
   "cell_type": "code",
   "execution_count": 4,
   "metadata": {},
   "outputs": [],
   "source": [
    "desc_series = df_dd['description']\n",
    "df_dd['js_count'] = desc_series.str.count('[jJ]ava[sS]cript')\n",
    "df_dd['python_count'] = desc_series.str.count('[Pp]ython')\n",
    "# convert js_count and python_count columns from float to int\n",
    "df_dd[['js_count', 'python_count']] = df_dd[['js_count', 'python_count']].fillna(0).astype(int)"
   ]
  },
  {
   "cell_type": "code",
   "execution_count": 5,
   "metadata": {},
   "outputs": [],
   "source": [
    "def format_hourly(num):\n",
    "    '''Returns annual salaries converted from hourly rates'''\n",
    "    return num * 2000 if num > 0 and num < 1000 else num"
   ]
  },
  {
   "cell_type": "code",
   "execution_count": 6,
   "metadata": {},
   "outputs": [],
   "source": [
    "sal_cap_groups = df_dd['salary'].str.extract(r'\\d\\d\\d?,\\d\\d\\d.-..(\\d\\d\\d?,\\d\\d\\d)|\\d\\d.-..(\\d\\d)')\n",
    "combined = sal_cap_groups[0].combine_first(sal_cap_groups[1])\n",
    "combined = combined.str.replace(',', '')\n",
    "formatted_sal = combined.fillna(0).astype(int).map(format_hourly).replace(0, np.nan)\n",
    "df_dd['formatted_sal'] = formatted_sal\n",
    "# df_dd['formatted_sal'] = df_dd['formatted_sal'].replace(0, np.nan)\n",
    "# formatted_sal = combined.fillna(0).astype(int).map(lambda num: num * 2000 if num > 0 and num < 1000 else num).replace(0, np.nan)"
   ]
  },
  {
   "cell_type": "code",
   "execution_count": 7,
   "metadata": {},
   "outputs": [],
   "source": [
    "grouped = df_dd.groupby(['search_loc', 'search_terms'])\n",
    "market_sals = grouped['formatted_sal'].mean().sort_values(ascending=False).astype(int)"
   ]
  },
  {
   "cell_type": "code",
   "execution_count": 8,
   "metadata": {},
   "outputs": [],
   "source": [
    "# market_sals\n",
    "# df_dd.sort_values(by='js_count', ascending=False)"
   ]
  },
  {
   "cell_type": "code",
   "execution_count": 9,
   "metadata": {},
   "outputs": [],
   "source": [
    "market_sals.to_csv('market_sals.csv', encoding='utf-8-sig')"
   ]
  },
  {
   "cell_type": "code",
   "execution_count": 10,
   "metadata": {},
   "outputs": [],
   "source": [
    "df_dd.to_csv('indeed_seed_jup.csv',index=False,encoding='utf-8-sig')"
   ]
  }
 ]
}