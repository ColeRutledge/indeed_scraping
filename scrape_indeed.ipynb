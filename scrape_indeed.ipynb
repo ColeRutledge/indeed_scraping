{
 "metadata": {
  "language_info": {
   "codemirror_mode": {
    "name": "ipython",
    "version": 3
   },
   "file_extension": ".py",
   "mimetype": "text/x-python",
   "name": "python",
   "nbconvert_exporter": "python",
   "pygments_lexer": "ipython3",
   "version": "3.8.5-final"
  },
  "orig_nbformat": 2,
  "kernelspec": {
   "name": "python_defaultSpec_1601493074803",
   "display_name": "Python 3.8.5 64-bit ('scraping': pipenv)"
  }
 },
 "nbformat": 4,
 "nbformat_minor": 2,
 "cells": [
  {
   "cell_type": "code",
   "execution_count": 1,
   "metadata": {},
   "outputs": [],
   "source": [
    "import pandas as pd\n",
    "import numpy as np"
   ]
  },
  {
   "cell_type": "code",
   "execution_count": 2,
   "metadata": {},
   "outputs": [],
   "source": [
    "df = pd.read_csv('scraped_data.csv')"
   ]
  },
  {
   "cell_type": "code",
   "execution_count": 4,
   "metadata": {},
   "outputs": [
    {
     "output_type": "execute_result",
     "data": {
      "text/plain": "               search_terms     search_loc  \\\n0      javascript developer  Charlotte, NC   \n1      javascript developer  Charlotte, NC   \n2      javascript developer  Charlotte, NC   \n3      javascript developer  Charlotte, NC   \n4      javascript developer  Charlotte, NC   \n...                     ...            ...   \n18461        java developer    Seattle, WA   \n18465        java developer    Seattle, WA   \n18478        java developer    Seattle, WA   \n18481        java developer    Seattle, WA   \n18496        java developer    Seattle, WA   \n\n                                                   title  \\\n0                                    Front-End Developer   \n1                                              DEVELOPER   \n2                                 Front End/UI Developer   \n3                                Front-End Web Developer   \n4              Junior Web Designer &amp; Front-End Developer   \n...                                                  ...   \n18461       Senior Software Development Engineer in Test   \n18465                          Sr. Software Dev Engineer   \n18478  Principal Backend Engineer, (Visual Intelligence)   \n18481        Sr. Software Development Engineer - PartiQL   \n18496       Software Development Engineer, AWS SageMaker   \n\n                                                location  \\\n0      Charlotte, NC 28209 (Ashbrook-Clawson Village ...   \n1                                    Fort Mill, SC 29707   \n2                                          Charlotte, NC   \n3                                          Charlotte, NC   \n4               Charlotte, NC 28210 (Beverly Woods area)   \n...                                                  ...   \n18461          Seattle, WA 98102 (South Lake Union area)   \n18465                                        Seattle, WA   \n18478            Seattle, WA 98101 (Denny Triangle area)   \n18481                                        Seattle, WA   \n18496                                        Seattle, WA   \n\n                        company                    salary          date  \\\n0      Discovery Education,Inc.                      None         Today   \n1                 PCI Group Inc                      None   12 days ago   \n2        Technosoft Corporation                      None         Today   \n3                     Raek Data  $75,000 - $95,000 a year         Today   \n4                  Fame Foundry  $40,000 - $50,000 a year  30+ days ago   \n...                         ...                       ...           ...   \n18461  Adaptive Biotechnologies                      None  30+ days ago   \n18465    Amazon Advertising LLC                      None   20 days ago   \n18478                   Coupang                      None  30+ days ago   \n18481   Amazon.com Services LLC                      None  30+ days ago   \n18496   Amazon.com Services LLC                      None  30+ days ago   \n\n                                             description  \\\n0      Who We Are:\\nWhat makes Discovery Education a ...   \n1      *New Opening* !!\\nThis job can be performed Re...   \n2      Technology: Must have: HTML, HTML5, CSS, CSS3,...   \n3      Summary\\nWe are seeking a talented and passion...   \n4      Fame Foundry is seeking a web designer/front-e...   \n...                                                  ...   \n18461  Every immune system has a story to tell— the k...   \n18465  4+ years of professional software development ...   \n18478  Coupang is one of the largest and fastest grow...   \n18481  Bachelor’s degree or higher in Computer Scienc...   \n18496  2+ years of non-internship professional softwa...   \n\n                                                    link  \n0      http://www.indeed.com/rc/clk?jk=9873c40715c0bc...  \n1      http://www.indeed.com/rc/clk?jk=a7169b005d3405...  \n2      http://www.indeed.com/pagead/clk?mo=r&amp;ad=-6NYl...  \n3      http://www.indeed.com/company/Raek-Data/jobs/F...  \n4      http://www.indeed.com/rc/clk?jk=ba2d7853616e34...  \n...                                                  ...  \n18461  http://www.indeed.com/rc/clk?jk=159c8098d2fc6c...  \n18465  http://www.indeed.com/rc/clk?jk=53214f6bf031b5...  \n18478  http://www.indeed.com/rc/clk?jk=344350c35eba1a...  \n18481  http://www.indeed.com/rc/clk?jk=bbc19a3ec02cde...  \n18496  http://www.indeed.com/rc/clk?jk=6acef8ff48ddd2...  \n\n[8959 rows x 9 columns]",
      "text/html": "<div>\n<style scoped>\n    .dataframe tbody tr th:only-of-type {\n        vertical-align: middle;\n    }\n\n    .dataframe tbody tr th {\n        vertical-align: top;\n    }\n\n    .dataframe thead th {\n        text-align: right;\n    }\n</style>\n<table border=\"1\" class=\"dataframe\">\n  <thead>\n    <tr style=\"text-align: right;\">\n      <th></th>\n      <th>search_terms</th>\n      <th>search_loc</th>\n      <th>title</th>\n      <th>location</th>\n      <th>company</th>\n      <th>salary</th>\n      <th>date</th>\n      <th>description</th>\n      <th>link</th>\n    </tr>\n  </thead>\n  <tbody>\n    <tr>\n      <th>0</th>\n      <td>javascript developer</td>\n      <td>Charlotte, NC</td>\n      <td>Front-End Developer</td>\n      <td>Charlotte, NC 28209 (Ashbrook-Clawson Village ...</td>\n      <td>Discovery Education,Inc.</td>\n      <td>None</td>\n      <td>Today</td>\n      <td>Who We Are:\\nWhat makes Discovery Education a ...</td>\n      <td>http://www.indeed.com/rc/clk?jk=9873c40715c0bc...</td>\n    </tr>\n    <tr>\n      <th>1</th>\n      <td>javascript developer</td>\n      <td>Charlotte, NC</td>\n      <td>DEVELOPER</td>\n      <td>Fort Mill, SC 29707</td>\n      <td>PCI Group Inc</td>\n      <td>None</td>\n      <td>12 days ago</td>\n      <td>*New Opening* !!\\nThis job can be performed Re...</td>\n      <td>http://www.indeed.com/rc/clk?jk=a7169b005d3405...</td>\n    </tr>\n    <tr>\n      <th>2</th>\n      <td>javascript developer</td>\n      <td>Charlotte, NC</td>\n      <td>Front End/UI Developer</td>\n      <td>Charlotte, NC</td>\n      <td>Technosoft Corporation</td>\n      <td>None</td>\n      <td>Today</td>\n      <td>Technology: Must have: HTML, HTML5, CSS, CSS3,...</td>\n      <td>http://www.indeed.com/pagead/clk?mo=r&amp;ad=-6NYl...</td>\n    </tr>\n    <tr>\n      <th>3</th>\n      <td>javascript developer</td>\n      <td>Charlotte, NC</td>\n      <td>Front-End Web Developer</td>\n      <td>Charlotte, NC</td>\n      <td>Raek Data</td>\n      <td>$75,000 - $95,000 a year</td>\n      <td>Today</td>\n      <td>Summary\\nWe are seeking a talented and passion...</td>\n      <td>http://www.indeed.com/company/Raek-Data/jobs/F...</td>\n    </tr>\n    <tr>\n      <th>4</th>\n      <td>javascript developer</td>\n      <td>Charlotte, NC</td>\n      <td>Junior Web Designer &amp; Front-End Developer</td>\n      <td>Charlotte, NC 28210 (Beverly Woods area)</td>\n      <td>Fame Foundry</td>\n      <td>$40,000 - $50,000 a year</td>\n      <td>30+ days ago</td>\n      <td>Fame Foundry is seeking a web designer/front-e...</td>\n      <td>http://www.indeed.com/rc/clk?jk=ba2d7853616e34...</td>\n    </tr>\n    <tr>\n      <th>...</th>\n      <td>...</td>\n      <td>...</td>\n      <td>...</td>\n      <td>...</td>\n      <td>...</td>\n      <td>...</td>\n      <td>...</td>\n      <td>...</td>\n      <td>...</td>\n    </tr>\n    <tr>\n      <th>18461</th>\n      <td>java developer</td>\n      <td>Seattle, WA</td>\n      <td>Senior Software Development Engineer in Test</td>\n      <td>Seattle, WA 98102 (South Lake Union area)</td>\n      <td>Adaptive Biotechnologies</td>\n      <td>None</td>\n      <td>30+ days ago</td>\n      <td>Every immune system has a story to tell— the k...</td>\n      <td>http://www.indeed.com/rc/clk?jk=159c8098d2fc6c...</td>\n    </tr>\n    <tr>\n      <th>18465</th>\n      <td>java developer</td>\n      <td>Seattle, WA</td>\n      <td>Sr. Software Dev Engineer</td>\n      <td>Seattle, WA</td>\n      <td>Amazon Advertising LLC</td>\n      <td>None</td>\n      <td>20 days ago</td>\n      <td>4+ years of professional software development ...</td>\n      <td>http://www.indeed.com/rc/clk?jk=53214f6bf031b5...</td>\n    </tr>\n    <tr>\n      <th>18478</th>\n      <td>java developer</td>\n      <td>Seattle, WA</td>\n      <td>Principal Backend Engineer, (Visual Intelligence)</td>\n      <td>Seattle, WA 98101 (Denny Triangle area)</td>\n      <td>Coupang</td>\n      <td>None</td>\n      <td>30+ days ago</td>\n      <td>Coupang is one of the largest and fastest grow...</td>\n      <td>http://www.indeed.com/rc/clk?jk=344350c35eba1a...</td>\n    </tr>\n    <tr>\n      <th>18481</th>\n      <td>java developer</td>\n      <td>Seattle, WA</td>\n      <td>Sr. Software Development Engineer - PartiQL</td>\n      <td>Seattle, WA</td>\n      <td>Amazon.com Services LLC</td>\n      <td>None</td>\n      <td>30+ days ago</td>\n      <td>Bachelor’s degree or higher in Computer Scienc...</td>\n      <td>http://www.indeed.com/rc/clk?jk=bbc19a3ec02cde...</td>\n    </tr>\n    <tr>\n      <th>18496</th>\n      <td>java developer</td>\n      <td>Seattle, WA</td>\n      <td>Software Development Engineer, AWS SageMaker</td>\n      <td>Seattle, WA</td>\n      <td>Amazon.com Services LLC</td>\n      <td>None</td>\n      <td>30+ days ago</td>\n      <td>2+ years of non-internship professional softwa...</td>\n      <td>http://www.indeed.com/rc/clk?jk=6acef8ff48ddd2...</td>\n    </tr>\n  </tbody>\n</table>\n<p>8959 rows × 9 columns</p>\n</div>"
     },
     "metadata": {},
     "execution_count": 4
    }
   ],
   "source": [
    "# drops duplicates by finding matches from the combined ['company','title'] columns\n",
    "df = df.drop_duplicates(subset=['company', 'title'])"
   ]
  },
  {
   "cell_type": "code",
   "execution_count": 4,
   "metadata": {},
   "outputs": [],
   "source": [
    "# create ['js_count','python_count','ruby_count','java_count'] columns with counts of each showing up in job descriptions\n",
    "descriptions = df['description']\n",
    "df['js_count'] = descriptions.str.count(r'[jJ]ava[sS]cript\\b')\n",
    "df['python_count'] = descriptions.str.count(r'[Pp]ython\\b')\n",
    "df['ruby_count'] = descriptions.str.count(r'[Rr]uby\\b')\n",
    "df['java_count'] = descriptions.str.count(r'[Jj]ava\\b')\n",
    "df[['js_count', 'python_count', 'ruby_count', 'java_count']] = \\\n",
    "    df[['js_count', 'python_count', 'ruby_count', 'java_count']].fillna(0).astype(int)"
   ]
  },
  {
   "cell_type": "code",
   "execution_count": 5,
   "metadata": {},
   "outputs": [],
   "source": [
    "# df[['search_terms', 'title', 'company', 'js_count', 'python_count', 'ruby_count', 'java_count']].sort_values(by=['ruby_count'], ascending=False).head(50)"
   ]
  },
  {
   "cell_type": "code",
   "execution_count": 6,
   "metadata": {},
   "outputs": [],
   "source": [
    "# recategorizes 'search_terms' for each posting based on highest tech count in description\n",
    "highest_tcount = df[['js_count', 'python_count', 'ruby_count', 'java_count']].idxmax(axis=1)\n",
    "mapper = {\n",
    "    'js_count': 'javascript developer', \n",
    "    'python_count': 'python developer', \n",
    "    'ruby_count': 'ruby developer', \n",
    "    'java_count': 'java developer'\n",
    "}\n",
    "df['search_terms'] = highest_tcount.map(lambda x: mapper[x])"
   ]
  },
  {
   "cell_type": "code",
   "execution_count": 7,
   "metadata": {},
   "outputs": [],
   "source": [
    "def format_hourly(rate):\n",
    "    '''Returns annual salaries converted from hourly rates'''\n",
    "    return rate * 2000 if rate > 0 and rate < 1000 else rate"
   ]
  },
  {
   "cell_type": "code",
   "execution_count": 8,
   "metadata": {},
   "outputs": [],
   "source": [
    "# creates the 'formatted_sal' column by finding and formatting high range of scraped salary data\n",
    "sal_cap_groups = df['salary'].str.extract(r'\\d\\d\\d?,\\d\\d\\d\\s-\\s\\$(\\d\\d\\d?,\\d\\d\\d)|\\d\\d\\s-\\s\\$(\\d\\d)')\n",
    "combined_sal_groups = sal_cap_groups[0].combine_first(sal_cap_groups[1]).str.replace(',', '')\n",
    "df['formatted_sal'] = combined_sal_groups.fillna(0).astype(int).map(format_hourly).replace(0, np.nan).astype('Int64')\n",
    "# df_dd['formatted_sal'] = combined.fillna(0).astype(int).map(lambda num: num * 2000 if num > 0 and num < 1000 else num).replace(0, np.nan)"
   ]
  },
  {
   "cell_type": "code",
   "execution_count": 9,
   "metadata": {},
   "outputs": [],
   "source": [
    "# groups the data by city and technology and returns average salaries for each\n",
    "grouped = df.groupby(['search_loc', 'search_terms'])\n",
    "market_sals = grouped['formatted_sal'].mean().sort_values(ascending=False).astype(int)"
   ]
  },
  {
   "cell_type": "code",
   "execution_count": 10,
   "metadata": {},
   "outputs": [],
   "source": [
    "# counts the overall metrics for position counts by tech and amount of total positions per market\n",
    "# also shows top salaries in the database\n",
    "pcount_by_tech = df['search_terms'].value_counts()\n",
    "pcount_by_loc = df['search_loc'].value_counts()\n",
    "top_salaries = df[df['formatted_sal'] > 0].sort_values(by='formatted_sal', ascending=False)"
   ]
  },
  {
   "cell_type": "code",
   "execution_count": 11,
   "metadata": {},
   "outputs": [],
   "source": [
    "# finding salaried ruby jobs in washington\n",
    "# pcount_by_loc = df[['search_loc','formatted_sal','search_terms']].value_counts()\n",
    "# dc_counts = pcount_by_loc['Washington, DC'].reset_index()\n",
    "# dc_counts[pcount_by_loc['Washington, DC'].reset_index()['search_terms'] == 'ruby developer']"
   ]
  },
  {
   "cell_type": "code",
   "execution_count": 12,
   "metadata": {},
   "outputs": [],
   "source": [
    "# creates new dataframe with position counts per market, position % breakdown per market, & overall marketshare of tech by market\n",
    "pos_metrics_mkt = pd.DataFrame(columns=['pos_counts_mkt', 'pos_pcts_mkt', 'pos_overall_mkt_pct'])\n",
    "pos_metrics_mkt['pos_pcts_mkt'] = round(df.groupby(['search_loc'])['search_terms'].value_counts(normalize=True) * 100, 2)\n",
    "pos_metrics_mkt['pos_counts_mkt'] = df.groupby(['search_loc'])['search_terms'].value_counts()\n",
    "pos_metrics_mkt['pos_overall_mkt_pct'] = round(pos_metrics_mkt['pos_counts_mkt'] / pos_metrics_mkt['pos_counts_mkt'].sum() * 100, 2)\n",
    "pos_metrics_mkt.reset_index(inplace=True)"
   ]
  },
  {
   "cell_type": "code",
   "execution_count": 13,
   "metadata": {},
   "outputs": [],
   "source": [
    "pos_metrics_mkt.to_csv('seed_pos_metrics_mkt.csv', encoding='utf-8-sig')\n",
    "market_sals.to_csv('seed_market_sals.csv', encoding='utf-8-sig')\n",
    "df.to_csv('seed_positions.csv',index=False,encoding='utf-8-sig')"
   ]
  }
 ]
}