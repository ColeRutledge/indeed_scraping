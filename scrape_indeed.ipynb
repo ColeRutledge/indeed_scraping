{
 "metadata": {
  "language_info": {
   "codemirror_mode": {
    "name": "ipython",
    "version": 3
   },
   "file_extension": ".py",
   "mimetype": "text/x-python",
   "name": "python",
   "nbconvert_exporter": "python",
   "pygments_lexer": "ipython3",
   "version": "3.8.3-final"
  },
  "orig_nbformat": 2,
  "kernelspec": {
   "name": "python38364bitscrapingakn5proypipenvedcf973c5e11440c89c5e2abb625043d",
   "display_name": "Python 3.8.3 64-bit ('scraping-AkN5pROy': pipenv)"
  }
 },
 "nbformat": 4,
 "nbformat_minor": 2,
 "cells": [
  {
   "cell_type": "code",
   "execution_count": 1,
   "metadata": {},
   "outputs": [],
   "source": [
    "import pandas as pd\n",
    "import numpy as np"
   ]
  },
  {
   "cell_type": "code",
   "execution_count": 2,
   "metadata": {},
   "outputs": [],
   "source": [
    "df = pd.read_csv('scraped_data.csv')"
   ]
  },
  {
   "cell_type": "code",
   "execution_count": 3,
   "metadata": {},
   "outputs": [],
   "source": [
    "# drops duplicates by finding matches from the combined ['company','title'] columns\n",
    "df = df.drop_duplicates(subset=['company', 'title'])"
   ]
  },
  {
   "cell_type": "code",
   "execution_count": 4,
   "metadata": {},
   "outputs": [],
   "source": [
    "# create ['js_count','python_count'] columns with counts of each showing up in job descriptions\n",
    "descriptions = df['description']\n",
    "df['js_count'] = descriptions.str.count(r'[jJ]ava[sS]cript')\n",
    "df['python_count'] = descriptions.str.count(r'[Pp]ython')\n",
    "df[['js_count', 'python_count']] = df[['js_count', 'python_count']].fillna(0).astype(int)"
   ]
  },
  {
   "cell_type": "code",
   "execution_count": 5,
   "metadata": {},
   "outputs": [],
   "source": [
    "def format_hourly(rate):\n",
    "    '''Returns annual salaries converted from hourly rates'''\n",
    "    return rate * 2000 if rate > 0 and rate < 1000 else rate"
   ]
  },
  {
   "cell_type": "code",
   "execution_count": 6,
   "metadata": {},
   "outputs": [],
   "source": [
    "# creates the 'formatted_sal' column by finding and formatting high range of scraped salary data\n",
    "sal_cap_groups = df['salary'].str.extract(r'\\d\\d\\d?,\\d\\d\\d\\s-\\s\\$(\\d\\d\\d?,\\d\\d\\d)|\\d\\d\\s-\\s\\$(\\d\\d)')\n",
    "combined_sal_groups = sal_cap_groups[0].combine_first(sal_cap_groups[1]).str.replace(',', '')\n",
    "df['formatted_sal'] = combined_sal_groups.fillna(0).astype(int).map(format_hourly).replace(0, np.nan)\n",
    "# df_dd['formatted_sal'] = combined.fillna(0).astype(int).map(lambda num: num * 2000 if num > 0 and num < 1000 else num).replace(0, np.nan)"
   ]
  },
  {
   "cell_type": "code",
   "execution_count": 7,
   "metadata": {},
   "outputs": [],
   "source": [
    "# groups the data by city and technology and returns average salaries for each\n",
    "grouped = df.groupby(['search_loc', 'search_terms'])\n",
    "market_sals = grouped['formatted_sal'].mean().sort_values(ascending=False).astype(int)"
   ]
  },
  {
   "cell_type": "code",
   "execution_count": 8,
   "metadata": {},
   "outputs": [],
   "source": [
    "market_sals.to_csv('seed_market_sals.csv', encoding='utf-8-sig')"
   ]
  },
  {
   "cell_type": "code",
   "execution_count": 9,
   "metadata": {},
   "outputs": [],
   "source": [
    "df.to_csv('seed_positions.csv',index=False,encoding='utf-8-sig')"
   ]
  }
 ]
}