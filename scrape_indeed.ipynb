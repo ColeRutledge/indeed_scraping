{
 "metadata": {
  "language_info": {
   "codemirror_mode": {
    "name": "ipython",
    "version": 3
   },
   "file_extension": ".py",
   "mimetype": "text/x-python",
   "name": "python",
   "nbconvert_exporter": "python",
   "pygments_lexer": "ipython3",
   "version": "3.8.3-final"
  },
  "orig_nbformat": 2,
  "kernelspec": {
   "name": "python38364bitscrapingakn5proypipenvedcf973c5e11440c89c5e2abb625043d",
   "display_name": "Python 3.8.3 64-bit ('scraping-AkN5pROy': pipenv)"
  }
 },
 "nbformat": 4,
 "nbformat_minor": 2,
 "cells": [
  {
   "cell_type": "code",
   "execution_count": 2,
   "metadata": {},
   "outputs": [],
   "source": [
    "import pandas as pd\n",
    "import numpy as np"
   ]
  },
  {
   "cell_type": "code",
   "execution_count": 3,
   "metadata": {},
   "outputs": [],
   "source": [
    "df = pd.read_csv('scraped_data.csv')"
   ]
  },
  {
   "cell_type": "code",
   "execution_count": 4,
   "metadata": {},
   "outputs": [],
   "source": [
    "# drops duplicates by finding matches from the combined ['company','title'] columns\n",
    "df = df.drop_duplicates(subset=['company', 'title'])"
   ]
  },
  {
   "cell_type": "code",
   "execution_count": 5,
   "metadata": {},
   "outputs": [],
   "source": [
    "# create ['js_count','python_count','ruby_count','java_count'] columns with counts of each showing up in job descriptions\n",
    "descriptions = df['description']\n",
    "df['js_count'] = descriptions.str.count(r'[jJ]ava[sS]cript\\b')\n",
    "df['python_count'] = descriptions.str.count(r'[Pp]ython\\b')\n",
    "df['ruby_count'] = descriptions.str.count(r'[Rr]uby\\b')\n",
    "df['java_count'] = descriptions.str.count(r'[Jj]ava\\b')\n",
    "df[['js_count', 'python_count', 'ruby_count', 'java_count']] = \\\n",
    "    df[['js_count', 'python_count', 'ruby_count', 'java_count']].fillna(0).astype(int)"
   ]
  },
  {
   "cell_type": "code",
   "execution_count": 6,
   "metadata": {},
   "outputs": [],
   "source": [
    "# df[['search_terms', 'title', 'company', 'js_count', 'python_count', 'ruby_count', 'java_count']].sort_values(by=['ruby_count'], ascending=False).head(50)"
   ]
  },
  {
   "cell_type": "code",
   "execution_count": 7,
   "metadata": {},
   "outputs": [],
   "source": [
    "# recategorizes 'search_terms' for each posting based on highest tech count in description\n",
    "highest_tcount = df[['js_count', 'python_count', 'ruby_count', 'java_count']].idxmax(axis=1)\n",
    "mapper = {\n",
    "    'js_count': 'javascript developer', \n",
    "    'python_count': 'python developer', \n",
    "    'ruby_count': 'ruby developer', \n",
    "    'java_count': 'java developer'\n",
    "}\n",
    "df['search_terms'] = highest_tcount.map(lambda x: mapper[x])"
   ]
  },
  {
   "cell_type": "code",
   "execution_count": 8,
   "metadata": {},
   "outputs": [],
   "source": [
    "def format_hourly(rate):\n",
    "    '''Returns annual salaries converted from hourly rates'''\n",
    "    return rate * 2000 if rate > 0 and rate < 1000 else rate"
   ]
  },
  {
   "cell_type": "code",
   "execution_count": 9,
   "metadata": {},
   "outputs": [],
   "source": [
    "# creates the 'formatted_sal' column by finding and formatting high range of scraped salary data\n",
    "sal_cap_groups = df['salary'].str.extract(r'\\d\\d\\d?,\\d\\d\\d\\s-\\s\\$(\\d\\d\\d?,\\d\\d\\d)|\\d\\d\\s-\\s\\$(\\d\\d)')\n",
    "combined_sal_groups = sal_cap_groups[0].combine_first(sal_cap_groups[1]).str.replace(',', '')\n",
    "df['formatted_sal'] = combined_sal_groups.fillna(0).astype(int).map(format_hourly).replace(0, np.nan).astype('Int64')\n",
    "# df_dd['formatted_sal'] = combined.fillna(0).astype(int).map(lambda num: num * 2000 if num > 0 and num < 1000 else num).replace(0, np.nan)"
   ]
  },
  {
   "cell_type": "code",
   "execution_count": 10,
   "metadata": {},
   "outputs": [],
   "source": [
    "# groups the data by city and technology and returns average salaries for each\n",
    "grouped = df.groupby(['search_loc', 'search_terms'])\n",
    "market_sals = grouped['formatted_sal'].mean().sort_values(ascending=False).astype(int)"
   ]
  },
  {
   "cell_type": "code",
   "execution_count": 18,
   "metadata": {},
   "outputs": [
    {
     "output_type": "execute_result",
     "data": {
      "text/plain": "Washington, DC       2076\nSan Francisco, CA    1534\nNew York, NY         1530\nSeattle, WA          1289\nBoston, MA           1274\nAustin, TX            868\nCharlotte, NC         388\nName: search_loc, dtype: int64"
     },
     "metadata": {},
     "execution_count": 18
    }
   ],
   "source": [
    "# counts the overall metrics for position counts by tech and amount of total positions per market\n",
    "# also shows top salaries in the database\n",
    "pcount_by_tech = df['search_terms'].value_counts()\n",
    "pcount_by_loc = df['search_loc'].value_counts()\n",
    "top_salaries = df[df['formatted_sal'] > 0].sort_values(by='formatted_sal', ascending=False)"
   ]
  },
  {
   "cell_type": "code",
   "execution_count": 12,
   "metadata": {},
   "outputs": [],
   "source": [
    "# finding salaried ruby jobs in washington\n",
    "# pcount_by_loc = df[['search_loc','formatted_sal','search_terms']].value_counts()\n",
    "# dc_counts = pcount_by_loc['Washington, DC'].reset_index()\n",
    "# dc_counts[pcount_by_loc['Washington, DC'].reset_index()['search_terms'] == 'ruby developer']"
   ]
  },
  {
   "cell_type": "code",
   "execution_count": 13,
   "metadata": {},
   "outputs": [],
   "source": [
    "# creates new dataframe with position counts per market, position % breakdown per market, & overall marketshare of tech by market\n",
    "pos_metrics_mkt = pd.DataFrame(columns=['pos_counts_mkt', 'pos_pcts_mkt', 'pos_overall_mkt_pct'])\n",
    "pos_metrics_mkt['pos_pcts_mkt'] = round(df.groupby(['search_loc'])['search_terms'].value_counts(normalize=True) * 100, 2)\n",
    "pos_metrics_mkt['pos_counts_mkt'] = df.groupby(['search_loc'])['search_terms'].value_counts()\n",
    "pos_metrics_mkt['pos_overall_mkt_pct'] = round(pos_metrics_mkt['pos_counts_mkt'] / pos_metrics_mkt['pos_counts_mkt'].sum() * 100, 2)\n",
    "pos_metrics_mkt.reset_index(inplace=True)"
   ]
  },
  {
   "cell_type": "code",
   "execution_count": 14,
   "metadata": {},
   "outputs": [],
   "source": [
    "pos_metrics_mkt.to_csv('seed_pos_metrics_mkt.csv', encoding='utf-8-sig')\n",
    "market_sals.to_csv('seed_market_sals.csv', encoding='utf-8-sig')\n",
    "df.to_csv('seed_positions.csv',index=False,encoding='utf-8-sig')"
   ]
  }
 ]
}