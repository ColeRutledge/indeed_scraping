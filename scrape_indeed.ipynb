{
 "metadata": {
  "language_info": {
   "codemirror_mode": {
    "name": "ipython",
    "version": 3
   },
   "file_extension": ".py",
   "mimetype": "text/x-python",
   "name": "python",
   "nbconvert_exporter": "python",
   "pygments_lexer": "ipython3",
   "version": "3.8.3-final"
  },
  "orig_nbformat": 2,
  "kernelspec": {
   "name": "python38364bitscrapingakn5proypipenvedcf973c5e11440c89c5e2abb625043d",
   "display_name": "Python 3.8.3 64-bit ('scraping-AkN5pROy': pipenv)"
  }
 },
 "nbformat": 4,
 "nbformat_minor": 2,
 "cells": [
  {
   "cell_type": "code",
   "execution_count": 1,
   "metadata": {},
   "outputs": [],
   "source": [
    "import pandas as pd\n",
    "import numpy as np"
   ]
  },
  {
   "cell_type": "code",
   "execution_count": 2,
   "metadata": {},
   "outputs": [],
   "source": [
    "df = pd.read_csv('scraped_data.csv')"
   ]
  },
  {
   "cell_type": "code",
   "execution_count": 3,
   "metadata": {},
   "outputs": [],
   "source": [
    "# drops duplicates by finding matches from the combined ['company','title'] columns\n",
    "df = df.drop_duplicates(subset=['company', 'title'])"
   ]
  },
  {
   "cell_type": "code",
   "execution_count": 17,
   "metadata": {},
   "outputs": [],
   "source": [
    "# create ['js_count','python_count','ruby_count','java_count'] columns with counts of each showing up in job descriptions\n",
    "descriptions = df['description']\n",
    "df['js_count'] = descriptions.str.count(r'[jJ]ava[sS]cript\\b')\n",
    "df['python_count'] = descriptions.str.count(r'[Pp]ython\\b')\n",
    "df['ruby_count'] = descriptions.str.count(r'[Rr]uby\\b')\n",
    "df['java_count'] = descriptions.str.count(r'[Jj]ava\\b')\n",
    "df[['js_count', 'python_count', 'ruby_count', 'java_count']] = \\\n",
    "    df[['js_count', 'python_count', 'ruby_count', 'java_count']].fillna(0).astype(int)"
   ]
  },
  {
   "cell_type": "code",
   "execution_count": 27,
   "metadata": {},
   "outputs": [
    {
     "output_type": "execute_result",
     "data": {
      "text/plain": "               search_terms  \\\n11329        ruby developer   \n3663         ruby developer   \n2376         ruby developer   \n2600         ruby developer   \n1778         ruby developer   \n244          ruby developer   \n11414        ruby developer   \n11943        java developer   \n12014        java developer   \n3736         ruby developer   \n2139         ruby developer   \n9405         java developer   \n2535         ruby developer   \n1636         ruby developer   \n2877         ruby developer   \n664          ruby developer   \n1078         ruby developer   \n931          ruby developer   \n1451         ruby developer   \n1498         ruby developer   \n11415        ruby developer   \n4918         ruby developer   \n11706        ruby developer   \n1014         ruby developer   \n5342         ruby developer   \n2222         ruby developer   \n7424         ruby developer   \n16494        ruby developer   \n1491         ruby developer   \n11338        ruby developer   \n7296         ruby developer   \n4264         ruby developer   \n527          ruby developer   \n11606        ruby developer   \n454    javascript developer   \n11685        ruby developer   \n11716        ruby developer   \n11737        ruby developer   \n16426        ruby developer   \n12128        ruby developer   \n519          ruby developer   \n11813        ruby developer   \n11162  javascript developer   \n11446        ruby developer   \n11638        ruby developer   \n11772        ruby developer   \n11878        ruby developer   \n2661         ruby developer   \n9746         ruby developer   \n2001         ruby developer   \n\n                                                   title  \\\n11329  REMOTE-Back End Software Engineer- Ruby- Ruby ...   \n3663                             Ruby on Rails Developer   \n2376                              Backend Ruby Developer   \n2600                       Senior Ruby on Rails Engineer   \n1778   Staff or Lead Software Engineer, Ruby (Billing...   \n244                     Ruby on Rails Developer (Remote)   \n11414       Senior Ruby on Rails Developer - 100% Remote   \n11943   0136 Systems Developer, Herndon, VA - ST/SCI FSP   \n12014          0134 DevOps SME, Herndon, VA - TS/SCI FSP   \n3736                              Ruby on Rails Engineer   \n2139               Senior Software Engineer - Full Stack   \n9405                       Sr. Principal DevOps Engineer   \n2535                             Ruby on Rails Developer   \n1636                      Senior Software Engineer, Ruby   \n2877                  Remote Sr. Ruby on Rails Developer   \n664             Senior Backend Engineer: Engagement Team   \n1078           Senior Backend Engineer: Acquisition Team   \n931     Senior Backend Engineer: Codecademy for Business   \n1451       Senior Software Engineer, Ruby (Billing Team)   \n1498                          Software Engineer II, Ruby   \n11415        FULL Remote - Sr. Full Stack Ruby Developer   \n4918   100% remote Senior Full Stack Engineer ( Ruby/...   \n11706  Software Developer (Systems Software) – Missio...   \n1014      Experienced Backend Engineer: Acquisition Team   \n5342              Senior Ruby on Rails Engineer (Remote)   \n2222                     Full-Stack Developer - Bay area   \n7424                            Senior Software Engineer   \n16494         2020775 Applications Developer $185,000.00   \n1491                      Sr. Ruby/RoR Software Engineer   \n11338                      Senior Ruby on Rails Engineer   \n7296                      Senior Ruby on Rails Developer   \n4264                     Ruby on Rails Software Engineer   \n527             Software Engineer, Sawyer Tools (Remote)   \n11606   Ruby/Rails Developer (Active Polygraph Required)   \n454                         Software Engineer, Front End   \n11685                      Expert Applications Developer   \n11716              Applications Developer – Senior Level   \n11737                               Full Stack Developer   \n16426         2020258 Applications Developer $185,000.00   \n12128    PERM-3 OPENINGS-Sr+Expert Level ROR Developers!   \n519                             Senior Software Engineer   \n11813                          Senior Software Developer   \n11162  JavaScript / Ruby on Rails Developer - Remote ...   \n11446                            Ruby On Rails Developer   \n11638                              Application Developer   \n11772                      Senior Applications Developer   \n11878                                          Developer   \n2661                             Ruby on Rails Developer   \n9746                                 Front End Developer   \n2001   Senior Front-End Engineer (HTML5, CSS3, Javasc...   \n\n                                       company  js_count  python_count  \\\n11329                              CyberCoders         0             0   \n3663                               EGlobalTech         1             0   \n2376                               CyberCoders         1             0   \n2600                                  Lab Zero         2             0   \n1778                               BigCommerce         2             1   \n244                           OneClickPolitics         1             0   \n11414                              CyberCoders         0             1   \n11943                         StellarPeak Corp         0             5   \n12014                         StellarPeak Corp         0             5   \n3736                                   EvoTech         1             0   \n2139                          Hired Recruiters         1             2   \n9405                                       RTX         0             5   \n2535                                Streetline         1             1   \n1636                               BigCommerce         1             0   \n2877                               CyberCoders         0             1   \n664                                 Codecademy         2             1   \n1078                                Codecademy         2             1   \n931                                 Codecademy         2             1   \n1451                               BigCommerce         2             1   \n1498                               BigCommerce         1             0   \n11415                              CyberCoders         1             0   \n4918                               CyberCoders         1             0   \n11706                              CENCORE LLC         2             0   \n1014                                Codecademy         2             1   \n5342                               CyberCoders         1             0   \n2222                                    Oracle         0             0   \n7424                                 Tophatter         0             1   \n16494                                   B4CORP         1             1   \n1491                             Housecall Pro         2             0   \n11338                               Grace Hill         1             0   \n7296                               CyberCoders         0             1   \n4264                                 Modo Labs         1             0   \n527                                     Sawyer         2             1   \n11606  General Dynamics Information Technology         0             0   \n454                                    Care/of         4             0   \n11685                   Convirgence Consulting         1             0   \n11716                              CENCORE LLC         1             0   \n11737                           Strut Learning         3             0   \n16426                                   B4CORP         1             0   \n12128                           Insight Global         1             0   \n519       Fedcap Rehabilitation Services, Inc.         1             0   \n11813                                   BOEING         1             1   \n11162                                 Tithe.ly         3             0   \n11446                                Huckberry         2             0   \n11638                      Booz Allen Hamilton         1             0   \n11772                   Convirgence Consulting         1             0   \n11878                WarCollar Industries, LLC         1             2   \n2661                             AppMozart LLC         0             0   \n9746                                 Alignable         1             2   \n2001                                    Canvis         0             0   \n\n       ruby_count  java_count  \n11329          11           0  \n3663            7           0  \n2376            7           0  \n2600            6           1  \n1778            6           0  \n244             6           0  \n11414           6           0  \n11943           6           7  \n12014           6           7  \n3736            6           0  \n2139            6           0  \n9405            6           7  \n2535            5           1  \n1636            5           0  \n2877            5           0  \n664             5           0  \n1078            5           0  \n931             5           0  \n1451            5           0  \n1498            5           0  \n11415           5           0  \n4918            5           0  \n11706           5           2  \n1014            5           0  \n5342            5           0  \n2222            4           0  \n7424            4           0  \n16494           4           3  \n1491            4           0  \n11338           4           0  \n7296            4           0  \n4264            4           0  \n527             4           2  \n11606           4           0  \n454             4           0  \n11685           4           1  \n11716           4           1  \n11737           4           0  \n16426           4           1  \n12128           4           0  \n519             4           0  \n11813           3           1  \n11162           3           0  \n11446           3           0  \n11638           3           1  \n11772           3           1  \n11878           3           1  \n2661            3           0  \n9746            3           0  \n2001            3           0  ",
      "text/html": "<div>\n<style scoped>\n    .dataframe tbody tr th:only-of-type {\n        vertical-align: middle;\n    }\n\n    .dataframe tbody tr th {\n        vertical-align: top;\n    }\n\n    .dataframe thead th {\n        text-align: right;\n    }\n</style>\n<table border=\"1\" class=\"dataframe\">\n  <thead>\n    <tr style=\"text-align: right;\">\n      <th></th>\n      <th>search_terms</th>\n      <th>title</th>\n      <th>company</th>\n      <th>js_count</th>\n      <th>python_count</th>\n      <th>ruby_count</th>\n      <th>java_count</th>\n    </tr>\n  </thead>\n  <tbody>\n    <tr>\n      <th>11329</th>\n      <td>ruby developer</td>\n      <td>REMOTE-Back End Software Engineer- Ruby- Ruby ...</td>\n      <td>CyberCoders</td>\n      <td>0</td>\n      <td>0</td>\n      <td>11</td>\n      <td>0</td>\n    </tr>\n    <tr>\n      <th>3663</th>\n      <td>ruby developer</td>\n      <td>Ruby on Rails Developer</td>\n      <td>EGlobalTech</td>\n      <td>1</td>\n      <td>0</td>\n      <td>7</td>\n      <td>0</td>\n    </tr>\n    <tr>\n      <th>2376</th>\n      <td>ruby developer</td>\n      <td>Backend Ruby Developer</td>\n      <td>CyberCoders</td>\n      <td>1</td>\n      <td>0</td>\n      <td>7</td>\n      <td>0</td>\n    </tr>\n    <tr>\n      <th>2600</th>\n      <td>ruby developer</td>\n      <td>Senior Ruby on Rails Engineer</td>\n      <td>Lab Zero</td>\n      <td>2</td>\n      <td>0</td>\n      <td>6</td>\n      <td>1</td>\n    </tr>\n    <tr>\n      <th>1778</th>\n      <td>ruby developer</td>\n      <td>Staff or Lead Software Engineer, Ruby (Billing...</td>\n      <td>BigCommerce</td>\n      <td>2</td>\n      <td>1</td>\n      <td>6</td>\n      <td>0</td>\n    </tr>\n    <tr>\n      <th>244</th>\n      <td>ruby developer</td>\n      <td>Ruby on Rails Developer (Remote)</td>\n      <td>OneClickPolitics</td>\n      <td>1</td>\n      <td>0</td>\n      <td>6</td>\n      <td>0</td>\n    </tr>\n    <tr>\n      <th>11414</th>\n      <td>ruby developer</td>\n      <td>Senior Ruby on Rails Developer - 100% Remote</td>\n      <td>CyberCoders</td>\n      <td>0</td>\n      <td>1</td>\n      <td>6</td>\n      <td>0</td>\n    </tr>\n    <tr>\n      <th>11943</th>\n      <td>java developer</td>\n      <td>0136 Systems Developer, Herndon, VA - ST/SCI FSP</td>\n      <td>StellarPeak Corp</td>\n      <td>0</td>\n      <td>5</td>\n      <td>6</td>\n      <td>7</td>\n    </tr>\n    <tr>\n      <th>12014</th>\n      <td>java developer</td>\n      <td>0134 DevOps SME, Herndon, VA - TS/SCI FSP</td>\n      <td>StellarPeak Corp</td>\n      <td>0</td>\n      <td>5</td>\n      <td>6</td>\n      <td>7</td>\n    </tr>\n    <tr>\n      <th>3736</th>\n      <td>ruby developer</td>\n      <td>Ruby on Rails Engineer</td>\n      <td>EvoTech</td>\n      <td>1</td>\n      <td>0</td>\n      <td>6</td>\n      <td>0</td>\n    </tr>\n    <tr>\n      <th>2139</th>\n      <td>ruby developer</td>\n      <td>Senior Software Engineer - Full Stack</td>\n      <td>Hired Recruiters</td>\n      <td>1</td>\n      <td>2</td>\n      <td>6</td>\n      <td>0</td>\n    </tr>\n    <tr>\n      <th>9405</th>\n      <td>java developer</td>\n      <td>Sr. Principal DevOps Engineer</td>\n      <td>RTX</td>\n      <td>0</td>\n      <td>5</td>\n      <td>6</td>\n      <td>7</td>\n    </tr>\n    <tr>\n      <th>2535</th>\n      <td>ruby developer</td>\n      <td>Ruby on Rails Developer</td>\n      <td>Streetline</td>\n      <td>1</td>\n      <td>1</td>\n      <td>5</td>\n      <td>1</td>\n    </tr>\n    <tr>\n      <th>1636</th>\n      <td>ruby developer</td>\n      <td>Senior Software Engineer, Ruby</td>\n      <td>BigCommerce</td>\n      <td>1</td>\n      <td>0</td>\n      <td>5</td>\n      <td>0</td>\n    </tr>\n    <tr>\n      <th>2877</th>\n      <td>ruby developer</td>\n      <td>Remote Sr. Ruby on Rails Developer</td>\n      <td>CyberCoders</td>\n      <td>0</td>\n      <td>1</td>\n      <td>5</td>\n      <td>0</td>\n    </tr>\n    <tr>\n      <th>664</th>\n      <td>ruby developer</td>\n      <td>Senior Backend Engineer: Engagement Team</td>\n      <td>Codecademy</td>\n      <td>2</td>\n      <td>1</td>\n      <td>5</td>\n      <td>0</td>\n    </tr>\n    <tr>\n      <th>1078</th>\n      <td>ruby developer</td>\n      <td>Senior Backend Engineer: Acquisition Team</td>\n      <td>Codecademy</td>\n      <td>2</td>\n      <td>1</td>\n      <td>5</td>\n      <td>0</td>\n    </tr>\n    <tr>\n      <th>931</th>\n      <td>ruby developer</td>\n      <td>Senior Backend Engineer: Codecademy for Business</td>\n      <td>Codecademy</td>\n      <td>2</td>\n      <td>1</td>\n      <td>5</td>\n      <td>0</td>\n    </tr>\n    <tr>\n      <th>1451</th>\n      <td>ruby developer</td>\n      <td>Senior Software Engineer, Ruby (Billing Team)</td>\n      <td>BigCommerce</td>\n      <td>2</td>\n      <td>1</td>\n      <td>5</td>\n      <td>0</td>\n    </tr>\n    <tr>\n      <th>1498</th>\n      <td>ruby developer</td>\n      <td>Software Engineer II, Ruby</td>\n      <td>BigCommerce</td>\n      <td>1</td>\n      <td>0</td>\n      <td>5</td>\n      <td>0</td>\n    </tr>\n    <tr>\n      <th>11415</th>\n      <td>ruby developer</td>\n      <td>FULL Remote - Sr. Full Stack Ruby Developer</td>\n      <td>CyberCoders</td>\n      <td>1</td>\n      <td>0</td>\n      <td>5</td>\n      <td>0</td>\n    </tr>\n    <tr>\n      <th>4918</th>\n      <td>ruby developer</td>\n      <td>100% remote Senior Full Stack Engineer ( Ruby/...</td>\n      <td>CyberCoders</td>\n      <td>1</td>\n      <td>0</td>\n      <td>5</td>\n      <td>0</td>\n    </tr>\n    <tr>\n      <th>11706</th>\n      <td>ruby developer</td>\n      <td>Software Developer (Systems Software) – Missio...</td>\n      <td>CENCORE LLC</td>\n      <td>2</td>\n      <td>0</td>\n      <td>5</td>\n      <td>2</td>\n    </tr>\n    <tr>\n      <th>1014</th>\n      <td>ruby developer</td>\n      <td>Experienced Backend Engineer: Acquisition Team</td>\n      <td>Codecademy</td>\n      <td>2</td>\n      <td>1</td>\n      <td>5</td>\n      <td>0</td>\n    </tr>\n    <tr>\n      <th>5342</th>\n      <td>ruby developer</td>\n      <td>Senior Ruby on Rails Engineer (Remote)</td>\n      <td>CyberCoders</td>\n      <td>1</td>\n      <td>0</td>\n      <td>5</td>\n      <td>0</td>\n    </tr>\n    <tr>\n      <th>2222</th>\n      <td>ruby developer</td>\n      <td>Full-Stack Developer - Bay area</td>\n      <td>Oracle</td>\n      <td>0</td>\n      <td>0</td>\n      <td>4</td>\n      <td>0</td>\n    </tr>\n    <tr>\n      <th>7424</th>\n      <td>ruby developer</td>\n      <td>Senior Software Engineer</td>\n      <td>Tophatter</td>\n      <td>0</td>\n      <td>1</td>\n      <td>4</td>\n      <td>0</td>\n    </tr>\n    <tr>\n      <th>16494</th>\n      <td>ruby developer</td>\n      <td>2020775 Applications Developer $185,000.00</td>\n      <td>B4CORP</td>\n      <td>1</td>\n      <td>1</td>\n      <td>4</td>\n      <td>3</td>\n    </tr>\n    <tr>\n      <th>1491</th>\n      <td>ruby developer</td>\n      <td>Sr. Ruby/RoR Software Engineer</td>\n      <td>Housecall Pro</td>\n      <td>2</td>\n      <td>0</td>\n      <td>4</td>\n      <td>0</td>\n    </tr>\n    <tr>\n      <th>11338</th>\n      <td>ruby developer</td>\n      <td>Senior Ruby on Rails Engineer</td>\n      <td>Grace Hill</td>\n      <td>1</td>\n      <td>0</td>\n      <td>4</td>\n      <td>0</td>\n    </tr>\n    <tr>\n      <th>7296</th>\n      <td>ruby developer</td>\n      <td>Senior Ruby on Rails Developer</td>\n      <td>CyberCoders</td>\n      <td>0</td>\n      <td>1</td>\n      <td>4</td>\n      <td>0</td>\n    </tr>\n    <tr>\n      <th>4264</th>\n      <td>ruby developer</td>\n      <td>Ruby on Rails Software Engineer</td>\n      <td>Modo Labs</td>\n      <td>1</td>\n      <td>0</td>\n      <td>4</td>\n      <td>0</td>\n    </tr>\n    <tr>\n      <th>527</th>\n      <td>ruby developer</td>\n      <td>Software Engineer, Sawyer Tools (Remote)</td>\n      <td>Sawyer</td>\n      <td>2</td>\n      <td>1</td>\n      <td>4</td>\n      <td>2</td>\n    </tr>\n    <tr>\n      <th>11606</th>\n      <td>ruby developer</td>\n      <td>Ruby/Rails Developer (Active Polygraph Required)</td>\n      <td>General Dynamics Information Technology</td>\n      <td>0</td>\n      <td>0</td>\n      <td>4</td>\n      <td>0</td>\n    </tr>\n    <tr>\n      <th>454</th>\n      <td>javascript developer</td>\n      <td>Software Engineer, Front End</td>\n      <td>Care/of</td>\n      <td>4</td>\n      <td>0</td>\n      <td>4</td>\n      <td>0</td>\n    </tr>\n    <tr>\n      <th>11685</th>\n      <td>ruby developer</td>\n      <td>Expert Applications Developer</td>\n      <td>Convirgence Consulting</td>\n      <td>1</td>\n      <td>0</td>\n      <td>4</td>\n      <td>1</td>\n    </tr>\n    <tr>\n      <th>11716</th>\n      <td>ruby developer</td>\n      <td>Applications Developer – Senior Level</td>\n      <td>CENCORE LLC</td>\n      <td>1</td>\n      <td>0</td>\n      <td>4</td>\n      <td>1</td>\n    </tr>\n    <tr>\n      <th>11737</th>\n      <td>ruby developer</td>\n      <td>Full Stack Developer</td>\n      <td>Strut Learning</td>\n      <td>3</td>\n      <td>0</td>\n      <td>4</td>\n      <td>0</td>\n    </tr>\n    <tr>\n      <th>16426</th>\n      <td>ruby developer</td>\n      <td>2020258 Applications Developer $185,000.00</td>\n      <td>B4CORP</td>\n      <td>1</td>\n      <td>0</td>\n      <td>4</td>\n      <td>1</td>\n    </tr>\n    <tr>\n      <th>12128</th>\n      <td>ruby developer</td>\n      <td>PERM-3 OPENINGS-Sr+Expert Level ROR Developers!</td>\n      <td>Insight Global</td>\n      <td>1</td>\n      <td>0</td>\n      <td>4</td>\n      <td>0</td>\n    </tr>\n    <tr>\n      <th>519</th>\n      <td>ruby developer</td>\n      <td>Senior Software Engineer</td>\n      <td>Fedcap Rehabilitation Services, Inc.</td>\n      <td>1</td>\n      <td>0</td>\n      <td>4</td>\n      <td>0</td>\n    </tr>\n    <tr>\n      <th>11813</th>\n      <td>ruby developer</td>\n      <td>Senior Software Developer</td>\n      <td>BOEING</td>\n      <td>1</td>\n      <td>1</td>\n      <td>3</td>\n      <td>1</td>\n    </tr>\n    <tr>\n      <th>11162</th>\n      <td>javascript developer</td>\n      <td>JavaScript / Ruby on Rails Developer - Remote ...</td>\n      <td>Tithe.ly</td>\n      <td>3</td>\n      <td>0</td>\n      <td>3</td>\n      <td>0</td>\n    </tr>\n    <tr>\n      <th>11446</th>\n      <td>ruby developer</td>\n      <td>Ruby On Rails Developer</td>\n      <td>Huckberry</td>\n      <td>2</td>\n      <td>0</td>\n      <td>3</td>\n      <td>0</td>\n    </tr>\n    <tr>\n      <th>11638</th>\n      <td>ruby developer</td>\n      <td>Application Developer</td>\n      <td>Booz Allen Hamilton</td>\n      <td>1</td>\n      <td>0</td>\n      <td>3</td>\n      <td>1</td>\n    </tr>\n    <tr>\n      <th>11772</th>\n      <td>ruby developer</td>\n      <td>Senior Applications Developer</td>\n      <td>Convirgence Consulting</td>\n      <td>1</td>\n      <td>0</td>\n      <td>3</td>\n      <td>1</td>\n    </tr>\n    <tr>\n      <th>11878</th>\n      <td>ruby developer</td>\n      <td>Developer</td>\n      <td>WarCollar Industries, LLC</td>\n      <td>1</td>\n      <td>2</td>\n      <td>3</td>\n      <td>1</td>\n    </tr>\n    <tr>\n      <th>2661</th>\n      <td>ruby developer</td>\n      <td>Ruby on Rails Developer</td>\n      <td>AppMozart LLC</td>\n      <td>0</td>\n      <td>0</td>\n      <td>3</td>\n      <td>0</td>\n    </tr>\n    <tr>\n      <th>9746</th>\n      <td>ruby developer</td>\n      <td>Front End Developer</td>\n      <td>Alignable</td>\n      <td>1</td>\n      <td>2</td>\n      <td>3</td>\n      <td>0</td>\n    </tr>\n    <tr>\n      <th>2001</th>\n      <td>ruby developer</td>\n      <td>Senior Front-End Engineer (HTML5, CSS3, Javasc...</td>\n      <td>Canvis</td>\n      <td>0</td>\n      <td>0</td>\n      <td>3</td>\n      <td>0</td>\n    </tr>\n  </tbody>\n</table>\n</div>"
     },
     "metadata": {},
     "execution_count": 27
    }
   ],
   "source": [
    "# df[['search_terms', 'title', 'company', 'js_count', 'python_count', 'ruby_count', 'java_count']].sort_values(by=['ruby_count'], ascending=False).head(50)"
   ]
  },
  {
   "cell_type": "code",
   "execution_count": 18,
   "metadata": {},
   "outputs": [],
   "source": [
    "# recategorizes 'search_terms' for each posting based on highest tech count in description\n",
    "highest_tcount = df[['js_count', 'python_count', 'ruby_count', 'java_count']].idxmax(axis=1)\n",
    "mapper = {\n",
    "    'js_count': 'javascript developer', \n",
    "    'python_count': 'python developer', \n",
    "    'ruby_count': 'ruby developer', \n",
    "    'java_count': 'java developer'\n",
    "}\n",
    "df['search_terms'] = highest_tcount.map(lambda x: mapper[x])"
   ]
  },
  {
   "cell_type": "code",
   "execution_count": 7,
   "metadata": {},
   "outputs": [],
   "source": [
    "def format_hourly(rate):\n",
    "    '''Returns annual salaries converted from hourly rates'''\n",
    "    return rate * 2000 if rate > 0 and rate < 1000 else rate"
   ]
  },
  {
   "cell_type": "code",
   "execution_count": 19,
   "metadata": {},
   "outputs": [],
   "source": [
    "# creates the 'formatted_sal' column by finding and formatting high range of scraped salary data\n",
    "sal_cap_groups = df['salary'].str.extract(r'\\d\\d\\d?,\\d\\d\\d\\s-\\s\\$(\\d\\d\\d?,\\d\\d\\d)|\\d\\d\\s-\\s\\$(\\d\\d)')\n",
    "combined_sal_groups = sal_cap_groups[0].combine_first(sal_cap_groups[1]).str.replace(',', '')\n",
    "df['formatted_sal'] = combined_sal_groups.fillna(0).astype(int).map(format_hourly).replace(0, np.nan).astype('Int64')\n",
    "# df_dd['formatted_sal'] = combined.fillna(0).astype(int).map(lambda num: num * 2000 if num > 0 and num < 1000 else num).replace(0, np.nan)"
   ]
  },
  {
   "cell_type": "code",
   "execution_count": 29,
   "metadata": {},
   "outputs": [],
   "source": [
    "# groups the data by city and technology and returns average salaries for each\n",
    "grouped = df.groupby(['search_loc', 'search_terms'])\n",
    "market_sals = grouped['formatted_sal'].mean().sort_values(ascending=False).astype(int)"
   ]
  },
  {
   "cell_type": "code",
   "execution_count": 30,
   "metadata": {},
   "outputs": [],
   "source": [
    "# counts the overall metrics for position counts by tech and amount of total positions per market\n",
    "pcount_by_tech = df['search_terms'].value_counts()\n",
    "pcount_by_loc = df['search_loc'].value_counts()"
   ]
  },
  {
   "cell_type": "code",
   "execution_count": 11,
   "metadata": {},
   "outputs": [],
   "source": [
    "# finding salaried ruby jobs in washington\n",
    "# pcount_by_loc = df[['search_loc','formatted_sal','search_terms']].value_counts()\n",
    "# dc_counts = pcount_by_loc['Washington, DC'].reset_index()\n",
    "# dc_counts[pcount_by_loc['Washington, DC'].reset_index()['search_terms'] == 'ruby developer']"
   ]
  },
  {
   "cell_type": "code",
   "execution_count": 28,
   "metadata": {},
   "outputs": [],
   "source": [
    "# creates new dataframe with position counts per market, position % breakdown per market, & overall marketshare of tech by market\n",
    "pos_metrics_mkt = pd.DataFrame(columns=['pos_counts_mkt', 'pos_pcts_mkt', 'pos_overall_mkt_pct'])\n",
    "pos_metrics_mkt['pos_pcts_mkt'] = round(df.groupby(['search_loc'])['search_terms'].value_counts(normalize=True) * 100, 2)\n",
    "pos_metrics_mkt['pos_counts_mkt'] = df.groupby(['search_loc'])['search_terms'].value_counts()\n",
    "pos_metrics_mkt['pos_overall_mkt_pct'] = round(pos_metrics_mkt['pos_counts_mkt'] / pos_metrics_mkt['pos_counts_mkt'].sum() * 100, 2)\n",
    "pos_metrics_mkt.reset_index(inplace=True)"
   ]
  },
  {
   "cell_type": "code",
   "execution_count": 13,
   "metadata": {},
   "outputs": [],
   "source": [
    "pos_metrics_mkt.to_csv('seed_pos_metrics_mkt.csv', encoding='utf-8-sig')\n",
    "market_sals.to_csv('seed_market_sals.csv', encoding='utf-8-sig')\n",
    "df.to_csv('seed_positions.csv',index=False,encoding='utf-8-sig')"
   ]
  }
 ]
}